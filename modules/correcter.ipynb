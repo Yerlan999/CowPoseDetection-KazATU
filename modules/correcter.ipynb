{
 "cells": [
  {
   "cell_type": "code",
   "execution_count": 33,
   "id": "61ddd8af",
   "metadata": {},
   "outputs": [],
   "source": [
    "import pandas as pd\n",
    "import numpy as np\n",
    "import sys, os, re, csv\n"
   ]
  },
  {
   "cell_type": "code",
   "execution_count": 25,
   "id": "ea4bb445",
   "metadata": {},
   "outputs": [],
   "source": [
    "keypoints_df = pd.read_csv(\"Training_Project_dataset.csv\")\n",
    "images_ext = re.compile(\".*(.jpg|.jpeg)\")\n",
    "\n",
    "filtered = list(filter(images_ext.match, os.listdir(\"colored\")))\n",
    "try:\n",
    "    sorted_images = sorted(filtered ,key=lambda x: int(os.path.splitext(x)[0][3:]))\n",
    "except:\n",
    "    try:\n",
    "        sorted_images = sorted(filtered ,key=lambda x: int(os.path.splitext(x)[0][2:]))\n",
    "    except:\n",
    "        sorted_images = sorted(filtered)\n",
    "sorted_images = [image_name.replace(\"e\", \"\") for image_name in sorted_images]"
   ]
  },
  {
   "cell_type": "code",
   "execution_count": 31,
   "id": "0361830f",
   "metadata": {},
   "outputs": [
    {
     "data": {
      "text/html": [
       "<div>\n",
       "<style scoped>\n",
       "    .dataframe tbody tr th:only-of-type {\n",
       "        vertical-align: middle;\n",
       "    }\n",
       "\n",
       "    .dataframe tbody tr th {\n",
       "        vertical-align: top;\n",
       "    }\n",
       "\n",
       "    .dataframe thead th {\n",
       "        text-align: right;\n",
       "    }\n",
       "</style>\n",
       "<table border=\"1\" class=\"dataframe\">\n",
       "  <thead>\n",
       "    <tr style=\"text-align: right;\">\n",
       "      <th></th>\n",
       "      <th>index</th>\n",
       "      <th>image_name</th>\n",
       "      <th>head_x</th>\n",
       "      <th>head_y</th>\n",
       "      <th>front_spine_x</th>\n",
       "      <th>front_spine_y</th>\n",
       "      <th>middle_spine_x</th>\n",
       "      <th>middle_spine_y</th>\n",
       "      <th>back_spine_x</th>\n",
       "      <th>back_spine_y</th>\n",
       "      <th>...</th>\n",
       "      <th>back_right_elbow_x</th>\n",
       "      <th>back_right_elbow_y</th>\n",
       "      <th>back_right_shoulder_x</th>\n",
       "      <th>back_right_shoulder_y</th>\n",
       "      <th>back_left_wrist_x</th>\n",
       "      <th>back_left_wrist_y</th>\n",
       "      <th>back_left_elbow_x</th>\n",
       "      <th>back_left_elbow_y</th>\n",
       "      <th>back_left_shoulder_x</th>\n",
       "      <th>back_left_shoulder_y</th>\n",
       "    </tr>\n",
       "  </thead>\n",
       "  <tbody>\n",
       "    <tr>\n",
       "      <th>0</th>\n",
       "      <td>0</td>\n",
       "      <td>cow0.jpg</td>\n",
       "      <td>251</td>\n",
       "      <td>81</td>\n",
       "      <td>191</td>\n",
       "      <td>70</td>\n",
       "      <td>152</td>\n",
       "      <td>59</td>\n",
       "      <td>106</td>\n",
       "      <td>65</td>\n",
       "      <td>...</td>\n",
       "      <td>104</td>\n",
       "      <td>143</td>\n",
       "      <td>112</td>\n",
       "      <td>107</td>\n",
       "      <td>106</td>\n",
       "      <td>177</td>\n",
       "      <td>99</td>\n",
       "      <td>142</td>\n",
       "      <td>111</td>\n",
       "      <td>108</td>\n",
       "    </tr>\n",
       "  </tbody>\n",
       "</table>\n",
       "<p>1 rows × 34 columns</p>\n",
       "</div>"
      ],
      "text/plain": [
       "   index image_name  head_x  head_y  front_spine_x  front_spine_y  \\\n",
       "0      0   cow0.jpg     251      81            191             70   \n",
       "\n",
       "   middle_spine_x  middle_spine_y  back_spine_x  back_spine_y  ...  \\\n",
       "0             152              59           106            65  ...   \n",
       "\n",
       "   back_right_elbow_x  back_right_elbow_y  back_right_shoulder_x  \\\n",
       "0                 104                 143                    112   \n",
       "\n",
       "   back_right_shoulder_y  back_left_wrist_x  back_left_wrist_y  \\\n",
       "0                    107                106                177   \n",
       "\n",
       "   back_left_elbow_x  back_left_elbow_y  back_left_shoulder_x  \\\n",
       "0                 99                142                   111   \n",
       "\n",
       "   back_left_shoulder_y  \n",
       "0                   108  \n",
       "\n",
       "[1 rows x 34 columns]"
      ]
     },
     "execution_count": 31,
     "metadata": {},
     "output_type": "execute_result"
    }
   ],
   "source": [
    "keypoints_df[keypoints_df[\"image_name\"] == \"cow0.jpg\"]"
   ]
  },
  {
   "cell_type": "code",
   "execution_count": null,
   "id": "5e9d4d8c",
   "metadata": {},
   "outputs": [],
   "source": []
  },
  {
   "cell_type": "code",
   "execution_count": 46,
   "id": "676cebf2",
   "metadata": {
    "scrolled": false
   },
   "outputs": [],
   "source": [
    "keypoints = keypoints_df.copy()\n",
    "with open(\"Training_Project_dataset.csv\", \"w\", newline='') as file:\n",
    "    writer = csv.writer(file, delimiter=',', quotechar='\"', quoting=csv.QUOTE_MINIMAL)\n",
    "    writer.writerow(list(keypoints.columns))\n",
    "    \n",
    "for image_name in sorted_images:\n",
    "    row = keypoints_df[keypoints_df[\"image_name\"] == image_name]\n",
    "    with open(\"Training_Project_dataset.csv\", \"a\", newline='') as file:\n",
    "        writer = csv.writer(file, delimiter=',', quotechar='\"', quoting=csv.QUOTE_MINIMAL)\n",
    "        writer.writerow(row.values[0])\n"
   ]
  },
  {
   "cell_type": "code",
   "execution_count": null,
   "id": "b433512d",
   "metadata": {},
   "outputs": [],
   "source": []
  }
 ],
 "metadata": {
  "kernelspec": {
   "display_name": "Python 3",
   "language": "python",
   "name": "python3"
  },
  "language_info": {
   "codemirror_mode": {
    "name": "ipython",
    "version": 3
   },
   "file_extension": ".py",
   "mimetype": "text/x-python",
   "name": "python",
   "nbconvert_exporter": "python",
   "pygments_lexer": "ipython3",
   "version": "3.8.8"
  }
 },
 "nbformat": 4,
 "nbformat_minor": 5
}
