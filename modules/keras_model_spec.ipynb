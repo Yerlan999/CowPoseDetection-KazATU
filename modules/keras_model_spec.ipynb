{
 "cells": [
  {
   "cell_type": "code",
   "execution_count": null,
   "id": "aabefaba",
   "metadata": {},
   "outputs": [],
   "source": [
    "import pandas as pd \n",
    "import numpy as np\n",
    "from numpy import asarray\n",
    "from pathlib import Path\n",
    "import cv2, pickle, csv, os, sys, re\n",
    "from PIL import Image, ImageOps\n",
    "import matplotlib.pyplot as plt\n",
    "%matplotlib inline\n",
    "from sklearn.pipeline import make_pipeline\n",
    "from sklearn.preprocessing import MinMaxScaler\n",
    "from keras.models import Sequential\n",
    "from keras.layers import BatchNormalization, Conv2D, Activation, MaxPooling2D, Dense, GlobalAveragePooling2D\n",
    "from keras import optimizers\n",
    "from keras.layers import Dropout, Flatten"
   ]
  },
  {
   "cell_type": "code",
   "execution_count": null,
   "id": "f6e3c9b5",
   "metadata": {},
   "outputs": [],
   "source": [
    "# Функции для просмотра изображении\n",
    "def string2image(jpeg_image_path):\n",
    "    image = Image.open(jpeg_image_path)\n",
    "    img_array = np.asarray(image)\n",
    "    return img_array\n",
    "    \n",
    "def plot_cow(image):\n",
    "    fig = plt.figure(figsize=(10, 10))\n",
    "    plt.imshow(string2image(image), cmap='gray')\n",
    "        "
   ]
  },
  {
   "cell_type": "code",
   "execution_count": null,
   "id": "6997864a",
   "metadata": {},
   "outputs": [],
   "source": [
    "# Чтение таблицы ключевых точек и директории изображении. Указать путь к CSV файлу и изображениям.\n",
    "keypoints_df = pd.read_csv(Path(r\"C:\\Users\\Sony\\Desktop\\University\\Programs\\TEST\\TEST_dataset.csv\"))\n",
    "images_dirname = Path(r\"C:\\Users\\Sony\\Desktop\\University\\Programs\\TEST\\grayscaled\") \n",
    "\n",
    "\n",
    "images_ext = re.compile(\".*(.jpg|.jpeg)\")\n",
    "\n",
    "filtered = list(filter(images_ext.match, os.listdir(images_dirname)))\n",
    "try:\n",
    "    sorted_images = sorted(filtered ,key=lambda x: int(os.path.splitext(x)[0][3:]))\n",
    "except:\n",
    "    try:\n",
    "        sorted_images = sorted(filtered ,key=lambda x: int(os.path.splitext(x)[0][2:]))\n",
    "    except:\n",
    "        sorted_images = sorted(filtered)\n"
   ]
  },
  {
   "cell_type": "code",
   "execution_count": null,
   "id": "98b785d6",
   "metadata": {},
   "outputs": [],
   "source": [
    "# Получение разрешения входных изображении (ширина, высота, кол.каналов)\n",
    "image = Image.open(Path(os.path.join(images_dirname, sorted_images[0])))\n",
    "img_array = np.asarray(image)\n",
    "SHAPE = (image.size[1], image.size[0], image.layers)"
   ]
  },
  {
   "cell_type": "code",
   "execution_count": null,
   "id": "3b28fd4a",
   "metadata": {},
   "outputs": [],
   "source": [
    "# Проверка. Просмотр заглавления\n",
    "keypoints_df.head()"
   ]
  },
  {
   "cell_type": "code",
   "execution_count": null,
   "id": "2daf0986",
   "metadata": {},
   "outputs": [],
   "source": [
    "# Просмотр одного изображения по номеру(индексу)         \n",
    "plot_cow(Path(os.path.join(images_dirname, sorted_images[0])))"
   ]
  },
  {
   "cell_type": "code",
   "execution_count": null,
   "id": "c16d0061",
   "metadata": {},
   "outputs": [],
   "source": [
    "# Просмотр изображении с аннотациями по номеру.\n",
    "image_index = 1\n",
    "keypoint_cols = list(keypoints_df.columns)[2:]\n",
    "xy = keypoints_df.iloc[image_index][keypoint_cols].values.reshape((int(len(keypoints_df.columns[2:])/2), 2))\n",
    "plt.plot(xy[:, 0], xy[:, 1], 'ro')\n",
    "plt.imshow(string2image(Path(os.path.join(images_dirname, sorted_images[image_index]))), cmap='gray')"
   ]
  },
  {
   "cell_type": "code",
   "execution_count": null,
   "id": "6d070543",
   "metadata": {},
   "outputs": [],
   "source": [
    "#                            !!! ЧАСТЬ МАШИННОГО ОБУЧЕНИЯ !!!"
   ]
  },
  {
   "cell_type": "code",
   "execution_count": null,
   "id": "08f94ea1",
   "metadata": {},
   "outputs": [],
   "source": [
    "# Подготовка данных\n",
    "X = np.stack([string2image(Path(os.path.join(images_dirname, image_path))) for image_path in sorted_images]).astype(np.float64)[:, :, :, np.newaxis]"
   ]
  },
  {
   "cell_type": "code",
   "execution_count": null,
   "id": "339be2f9",
   "metadata": {},
   "outputs": [],
   "source": [
    "# Подготовка данных\n",
    "y = np.vstack(keypoints_df[keypoints_df.columns[2:]].values)"
   ]
  },
  {
   "cell_type": "code",
   "execution_count": null,
   "id": "3070453b",
   "metadata": {},
   "outputs": [],
   "source": [
    "X.shape, X.dtype"
   ]
  },
  {
   "cell_type": "code",
   "execution_count": null,
   "id": "ec0ebf28",
   "metadata": {},
   "outputs": [],
   "source": [
    "y.shape, y.dtype"
   ]
  },
  {
   "cell_type": "code",
   "execution_count": null,
   "id": "4839aa10",
   "metadata": {},
   "outputs": [],
   "source": [
    "X_train = X / 255"
   ]
  },
  {
   "cell_type": "code",
   "execution_count": null,
   "id": "8b522ea3",
   "metadata": {},
   "outputs": [],
   "source": [
    "# Подготовка данных\n",
    "output_pipe = make_pipeline(\n",
    "    MinMaxScaler(feature_range=(-1, 1))\n",
    ")\n",
    "\n",
    "y_train = output_pipe.fit_transform(y)"
   ]
  },
  {
   "cell_type": "code",
   "execution_count": null,
   "id": "1ad83c47",
   "metadata": {},
   "outputs": [],
   "source": [
    "# МОДЕЛЬ МАШИННОГО ОБУЧЕНИЯ\n",
    "model = Sequential()\n",
    "\n",
    "# Входной слой\n",
    "model.add(BatchNormalization(input_shape=(SHAPE)))\n",
    "model.add(Conv2D(36, (5, 5), kernel_initializer='random_normal'))\n",
    "model.add(Activation('sigmoid'))\n",
    "model.add(MaxPooling2D(pool_size=(5, 5), strides=(2, 2)))\n",
    "model.add(Dropout(0.2))\n",
    "\n",
    "# Второй слой\n",
    "model.add(Conv2D(48, (5, 5)))\n",
    "model.add(Activation('sigmoid'))\n",
    "model.add(MaxPooling2D(pool_size=(5, 5), strides=(2, 2)))\n",
    "model.add(Dropout(0.2))\n",
    "\n",
    "# Третий слой\n",
    "model.add(Conv2D(64, (5, 5)))\n",
    "model.add(Activation('sigmoid'))\n",
    "model.add(MaxPooling2D(pool_size=(5, 5), strides=(2, 2)))\n",
    "model.add(Dropout(0.2))\n",
    "\n",
    "# Четвертый слой\n",
    "model.add(Conv2D(72, (3, 3)))\n",
    "model.add(Activation('sigmoid'))\n",
    "model.add(MaxPooling2D(pool_size=(5, 5), strides=(2, 2)))\n",
    "model.add(Dropout(0.2))\n",
    "\n",
    "# Пятый слой\n",
    "model.add(Conv2D(72, (3, 3)))\n",
    "model.add(Activation('sigmoid'))\n",
    "model.add(Flatten())\n",
    "\n",
    "# Шестой слой\n",
    "model.add(Dense(1000, activation=\"sigmoid\"))\n",
    "\n",
    "# Седьмой слой\n",
    "model.add(Dense(180, activation=\"sigmoid\"))\n",
    "\n",
    "# Восьмой слой\n",
    "model.add(Dense(y.shape[1]))"
   ]
  },
  {
   "cell_type": "code",
   "execution_count": null,
   "id": "e76c5147",
   "metadata": {},
   "outputs": [],
   "source": [
    "# Проведение машинного обучения\n",
    "sgd = optimizers.SGD(lr=0.01, decay=1e-6, momentum=0.99, nesterov=True)\n",
    "model.compile(optimizer=sgd, loss='mse', metrics=['accuracy'])\n",
    "epochs = 11\n",
    "history = model.fit(X_train, y_train, \n",
    "                 validation_split=0.2, shuffle=True, \n",
    "                 epochs=epochs, batch_size=2)"
   ]
  },
  {
   "cell_type": "code",
   "execution_count": null,
   "id": "58737771",
   "metadata": {},
   "outputs": [],
   "source": [
    "# Подготовка тестовых данных\n",
    "img = X_train[0, :, :, :].reshape(1, *SHAPE)\n",
    "predictions = model.predict(img)"
   ]
  },
  {
   "cell_type": "code",
   "execution_count": null,
   "id": "68ee797d",
   "metadata": {},
   "outputs": [],
   "source": [
    "# Предсказание модели\n",
    "xy_predictions = output_pipe.inverse_transform(predictions).reshape(y.shape[1]//2, 2)"
   ]
  },
  {
   "cell_type": "code",
   "execution_count": null,
   "id": "b2bd88cd",
   "metadata": {},
   "outputs": [],
   "source": [
    "# Проверка предсказании. Вывод данных\n",
    "plt.imshow(X_train[0, :, :, 0], cmap='gray')\n",
    "plt.plot(xy_predictions[:, 0], xy_predictions[:, 1], 'b*')"
   ]
  },
  {
   "cell_type": "code",
   "execution_count": null,
   "id": "6856a5f0",
   "metadata": {},
   "outputs": [],
   "source": [
    "# # Для сохранения обученной модели\n",
    "# filename = 'finalized_model.sav'\n",
    "# pickle.dump(model, open(filename, 'wb'))\n",
    "\n",
    "# # Для загрузки ранее сохраненной модели\n",
    "# loaded_model = pickle.load(open(filename, 'rb'))"
   ]
  }
 ],
 "metadata": {
  "kernelspec": {
   "display_name": "keras_env",
   "language": "python",
   "name": "keras_env"
  },
  "language_info": {
   "codemirror_mode": {
    "name": "ipython",
    "version": 3
   },
   "file_extension": ".py",
   "mimetype": "text/x-python",
   "name": "python",
   "nbconvert_exporter": "python",
   "pygments_lexer": "ipython3",
   "version": "3.8.5"
  }
 },
 "nbformat": 4,
 "nbformat_minor": 5
}
