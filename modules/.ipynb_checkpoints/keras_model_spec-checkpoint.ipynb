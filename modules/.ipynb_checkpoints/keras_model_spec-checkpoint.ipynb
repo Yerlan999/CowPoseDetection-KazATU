{
 "cells": [
  {
   "cell_type": "code",
   "execution_count": null,
   "id": "5d108a8f",
   "metadata": {},
   "outputs": [],
   "source": [
    "import pandas as pd \n",
    "import numpy as np\n",
    "from numpy import asarray\n",
    "from pathlib import Path\n",
    "import cv2, pickle, csv, os, sys, re\n",
    "from PIL import Image, ImageOps\n",
    "from tools import *\n",
    "import matplotlib.pyplot as plt\n",
    "%matplotlib inline\n",
    "from sklearn.pipeline import make_pipeline\n",
    "from sklearn.preprocessing import MinMaxScaler\n",
    "from keras.models import Sequential\n",
    "from keras.layers import BatchNormalization, Conv2D, Activation, MaxPooling2D, Dense, GlobalAveragePooling2D\n",
    "from keras import optimizers\n",
    "from keras.layers import Dropout, Flatten"
   ]
  },
  {
   "cell_type": "code",
   "execution_count": null,
   "id": "38bda5c5",
   "metadata": {},
   "outputs": [],
   "source": [
    "# Чтение таблицы ключевых точек и директории изображении. Указать путь к CSV файлу и изображениям.\n",
    "csv_file_path = Path(r\"<Абсолютный путь к файлу с аннотациями>\\название_dataset.csv\")\n",
    "images_dirname = Path(r\"<Абсолютный путь к папке с изображениями>\")\n",
    "\n",
    "# Получения основных данных \n",
    "SHAPE, last_image_index, curr_img_count, current_wd, keypoints_df, sorted_images = get_main_data(csv_file_path, images_dirname)"
   ]
  },
  {
   "cell_type": "code",
   "execution_count": null,
   "id": "32950d92",
   "metadata": {},
   "outputs": [],
   "source": [
    "# Проверка. Просмотр заглавления\n",
    "keypoints_df.head()"
   ]
  },
  {
   "cell_type": "code",
   "execution_count": null,
   "id": "06e00882",
   "metadata": {},
   "outputs": [],
   "source": [
    "# Просмотр одного изображения по номеру(индексу)         \n",
    "plot_cow(Path(os.path.join(images_dirname, sorted_images[0])))"
   ]
  },
  {
   "cell_type": "code",
   "execution_count": null,
   "id": "4a4c4663",
   "metadata": {},
   "outputs": [],
   "source": [
    "# Просмотр изображении с аннотациями по номеру.\n",
    "show_cowannot(1, keypoints_df, images_dirname, sorted_images)"
   ]
  },
  {
   "cell_type": "code",
   "execution_count": null,
   "id": "caff88b0",
   "metadata": {},
   "outputs": [],
   "source": [
    "#                             !!! АУГМЕНТАЦИЯ ДАННЫХ !!!"
   ]
  },
  {
   "cell_type": "code",
   "execution_count": null,
   "id": "34f37b52",
   "metadata": {},
   "outputs": [],
   "source": [
    "# Каскад увеличения данных \n",
    "data_augment = [\n",
    "#     FlipImages(),\n",
    "#     MirrorImages(),\n",
    "#     MirrorFlipImages(),  \n",
    "#     \n",
    "#     RotateImages(-15),\n",
    "#     ShiftImages(20, 20),\n",
    "#     \n",
    "#     \n",
    "#     BlurImages(11), \n",
    "#     NoiseImages(0.3), \n",
    "#     BrightenImages(1.5), \n",
    "#     ContrastImages(1.5),\n",
    "#     SaturationImages(1.5),\n",
    "]\n",
    "AugmentApply(data_augment, SHAPE, last_image_index, curr_img_count, current_wd, keypoints_df, sorted_images, images_dirname, csv_file_path)"
   ]
  },
  {
   "cell_type": "code",
   "execution_count": null,
   "id": "11fe90a8",
   "metadata": {},
   "outputs": [],
   "source": [
    "# Получения основных данных\n",
    "SHAPE, last_image_index, curr_img_count, current_wd, keypoints_df, sorted_images = get_main_data(csv_file_path, images_dirname)"
   ]
  },
  {
   "cell_type": "code",
   "execution_count": null,
   "id": "fd9fddd1",
   "metadata": {},
   "outputs": [],
   "source": [
    "# Просмотр изображении с аннотациями по номеру.\n",
    "show_cowannot(14, keypoints_df, images_dirname, sorted_images)"
   ]
  },
  {
   "cell_type": "code",
   "execution_count": null,
   "id": "0afe6b3b",
   "metadata": {},
   "outputs": [],
   "source": [
    "#                            !!! ЧАСТЬ МАШИННОГО ОБУЧЕНИЯ !!!"
   ]
  },
  {
   "cell_type": "code",
   "execution_count": null,
   "id": "c73b3b80",
   "metadata": {},
   "outputs": [],
   "source": [
    "# Подготовка данных\n",
    "if SHAPE[2] == 3:\n",
    "    X = np.stack([string2image(Path(os.path.join(images_dirname, image_path))) for image_path in sorted_images]).astype(np.float64)[:, :, :, :]\n",
    "if SHAPE[2] == 1:\n",
    "    X = np.stack([string2image(Path(os.path.join(images_dirname, image_path))) for image_path in sorted_images]).astype(np.float64)[:, :, :, np.newaxis]\n",
    "\n",
    "y = np.vstack(keypoints_df[keypoints_df.columns[2:]].values)\n",
    "X_train = X / 255"
   ]
  },
  {
   "cell_type": "code",
   "execution_count": null,
   "id": "bfa9b0e2",
   "metadata": {},
   "outputs": [],
   "source": [
    "# Подготовка данных\n",
    "output_pipe = make_pipeline(\n",
    "    MinMaxScaler(feature_range=(-1, 1))\n",
    ")\n",
    "\n",
    "y_train = output_pipe.fit_transform(y)"
   ]
  },
  {
   "cell_type": "code",
   "execution_count": null,
   "id": "92984e00",
   "metadata": {},
   "outputs": [],
   "source": [
    "# МОДЕЛЬ МАШИННОГО ОБУЧЕНИЯ\n",
    "model = Sequential()\n",
    "\n",
    "# Входной слой\n",
    "model.add(BatchNormalization(input_shape=(SHAPE)))\n",
    "model.add(Conv2D(360, (5, 5), kernel_initializer='random_normal'))\n",
    "model.add(Activation('sigmoid'))\n",
    "model.add(MaxPooling2D(pool_size=(5, 5), strides=(2, 2)))\n",
    "model.add(Dropout(0.2))\n",
    "\n",
    "# Второй слой\n",
    "model.add(Conv2D(480, (5, 5)))\n",
    "model.add(Activation('sigmoid'))\n",
    "model.add(MaxPooling2D(pool_size=(5, 5), strides=(2, 2)))\n",
    "model.add(Dropout(0.2))\n",
    "\n",
    "# Третий слой\n",
    "model.add(Conv2D(640, (5, 5)))\n",
    "model.add(Activation('sigmoid'))\n",
    "model.add(MaxPooling2D(pool_size=(5, 5), strides=(2, 2)))\n",
    "model.add(Dropout(0.2))\n",
    "\n",
    "# Четвертый слой\n",
    "model.add(Conv2D(720, (3, 3)))\n",
    "model.add(Activation('sigmoid'))\n",
    "model.add(MaxPooling2D(pool_size=(5, 5), strides=(2, 2)))\n",
    "model.add(Dropout(0.2))\n",
    "\n",
    "# Пятый слой\n",
    "model.add(Conv2D(720, (3, 3)))\n",
    "model.add(Activation('sigmoid'))\n",
    "model.add(Flatten())\n",
    "\n",
    "# Шестой слой\n",
    "model.add(Dense(5000, activation=\"sigmoid\"))\n",
    "\n",
    "# Седьмой слой\n",
    "model.add(Dense(800, activation=\"sigmoid\"))\n",
    "\n",
    "# Восьмой слой\n",
    "model.add(Dense(y.shape[1]))"
   ]
  },
  {
   "cell_type": "code",
   "execution_count": null,
   "id": "6dc6185c",
   "metadata": {},
   "outputs": [],
   "source": [
    "# Проведение машинного обучения\n",
    "sgd = optimizers.SGD(lr=0.01, decay=1e-6, momentum=0.99, nesterov=True)\n",
    "model.compile(optimizer=sgd, loss='mse', metrics=['accuracy'])\n",
    "epochs = 11\n",
    "history = model.fit(X_train, y_train, \n",
    "                 validation_split=0.2, shuffle=True, \n",
    "                 epochs=epochs, batch_size=2)"
   ]
  },
  {
   "cell_type": "code",
   "execution_count": null,
   "id": "a0a964f8",
   "metadata": {},
   "outputs": [],
   "source": [
    "# Подготовка тестовых данных\n",
    "img = X_train[0, :, :, :].reshape(1, *SHAPE)\n",
    "predictions = model.predict(img)"
   ]
  },
  {
   "cell_type": "code",
   "execution_count": null,
   "id": "7eb8686d",
   "metadata": {},
   "outputs": [],
   "source": [
    "# Предсказание модели\n",
    "xy_predictions = output_pipe.inverse_transform(predictions).reshape(y.shape[1]//2, 2)"
   ]
  },
  {
   "cell_type": "code",
   "execution_count": null,
   "id": "3c10fce6",
   "metadata": {},
   "outputs": [],
   "source": [
    "# Проверка предсказании. Вывод данных\n",
    "if SHAPE[2] == 3:\n",
    "    plt.imshow(X_train[0, :, :, :])\n",
    "if SHAPE[2] == 1:\n",
    "    plt.imshow(X_train[0, :, :, :], cmap='gray')\n",
    "plt.plot(xy_predictions[:, 0], xy_predictions[:, 1], 'b*')"
   ]
  },
  {
   "cell_type": "code",
   "execution_count": null,
   "id": "e384527c",
   "metadata": {},
   "outputs": [],
   "source": [
    "# # Для сохранения обученной модели\n",
    "# filename = 'finalized_model.sav'\n",
    "# pickle.dump(model, open(filename, 'wb'))\n",
    "\n",
    "# # Для загрузки ранее сохраненной модели\n",
    "# loaded_model = pickle.load(open(filename, 'rb'))"
   ]
  }
 ],
 "metadata": {
  "kernelspec": {
   "display_name": "keras_env",
   "language": "python",
   "name": "keras_env"
  },
  "language_info": {
   "codemirror_mode": {
    "name": "ipython",
    "version": 3
   },
   "file_extension": ".py",
   "mimetype": "text/x-python",
   "name": "python",
   "nbconvert_exporter": "python",
   "pygments_lexer": "ipython3",
   "version": "3.8.5"
  }
 },
 "nbformat": 4,
 "nbformat_minor": 5
}
